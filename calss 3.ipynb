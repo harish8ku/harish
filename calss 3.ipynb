{
 "cells": [
  {
   "cell_type": "code",
   "execution_count": null,
   "id": "944540ba",
   "metadata": {},
   "outputs": [],
   "source": [
    "# string methods"
   ]
  },
  {
   "cell_type": "code",
   "execution_count": 3,
   "id": "3ebec79c",
   "metadata": {},
   "outputs": [],
   "source": [
    "name='harish'"
   ]
  },
  {
   "cell_type": "code",
   "execution_count": 4,
   "id": "5676f945",
   "metadata": {},
   "outputs": [
    {
     "name": "stdout",
     "output_type": "stream",
     "text": [
      "harish\n"
     ]
    }
   ],
   "source": [
    "print(name)"
   ]
  },
  {
   "cell_type": "code",
   "execution_count": 7,
   "id": "5d5c98a2",
   "metadata": {},
   "outputs": [],
   "source": [
    "name2='naveen'"
   ]
  },
  {
   "cell_type": "code",
   "execution_count": 9,
   "id": "f04dbc6c",
   "metadata": {},
   "outputs": [
    {
     "name": "stdout",
     "output_type": "stream",
     "text": [
      "naveen\n"
     ]
    }
   ],
   "source": [
    "print(name2)"
   ]
  },
  {
   "cell_type": "markdown",
   "id": "18b0d070",
   "metadata": {},
   "source": []
  },
  {
   "cell_type": "code",
   "execution_count": 10,
   "id": "ceebf9f5",
   "metadata": {},
   "outputs": [
    {
     "data": {
      "text/plain": [
       "str"
      ]
     },
     "execution_count": 10,
     "metadata": {},
     "output_type": "execute_result"
    }
   ],
   "source": [
    "type(name2)"
   ]
  },
  {
   "cell_type": "code",
   "execution_count": 11,
   "id": "9434058d",
   "metadata": {},
   "outputs": [],
   "source": [
    "fullname='nikil kumar'"
   ]
  },
  {
   "cell_type": "code",
   "execution_count": 13,
   "id": "554f9de6",
   "metadata": {},
   "outputs": [
    {
     "name": "stdout",
     "output_type": "stream",
     "text": [
      "nikil kumar\n"
     ]
    }
   ],
   "source": [
    "print(fullname)"
   ]
  },
  {
   "cell_type": "code",
   "execution_count": 16,
   "id": "4b81c543",
   "metadata": {},
   "outputs": [
    {
     "data": {
      "text/plain": [
       "'Nikil Kumar'"
      ]
     },
     "execution_count": 16,
     "metadata": {},
     "output_type": "execute_result"
    }
   ],
   "source": [
    "fullname.title()"
   ]
  },
  {
   "cell_type": "code",
   "execution_count": 20,
   "id": "6614109f",
   "metadata": {},
   "outputs": [
    {
     "data": {
      "text/plain": [
       "'NIKIL KUMAR'"
      ]
     },
     "execution_count": 20,
     "metadata": {},
     "output_type": "execute_result"
    }
   ],
   "source": [
    "fullname.upper()"
   ]
  },
  {
   "cell_type": "code",
   "execution_count": 36,
   "id": "a5ee21b9",
   "metadata": {},
   "outputs": [
    {
     "data": {
      "text/plain": [
       "'nikil kumar'"
      ]
     },
     "execution_count": 36,
     "metadata": {},
     "output_type": "execute_result"
    }
   ],
   "source": [
    "fullname.lower()"
   ]
  },
  {
   "cell_type": "code",
   "execution_count": null,
   "id": "2c9b5958",
   "metadata": {},
   "outputs": [],
   "source": []
  },
  {
   "cell_type": "code",
   "execution_count": 88,
   "id": "1f9f907e",
   "metadata": {},
   "outputs": [],
   "source": [
    "firstname='hari'"
   ]
  },
  {
   "cell_type": "code",
   "execution_count": 89,
   "id": "b3d46fb5",
   "metadata": {},
   "outputs": [],
   "source": [
    "lastname='kumar'"
   ]
  },
  {
   "cell_type": "code",
   "execution_count": 90,
   "id": "6aae2a8a",
   "metadata": {},
   "outputs": [],
   "source": [
    "full_name= f\"{firstname} {lastname}\""
   ]
  },
  {
   "cell_type": "code",
   "execution_count": 91,
   "id": "1e2d2785",
   "metadata": {},
   "outputs": [
    {
     "name": "stdout",
     "output_type": "stream",
     "text": [
      "hari kumar\n"
     ]
    }
   ],
   "source": [
    "print(full_name)"
   ]
  },
  {
   "cell_type": "code",
   "execution_count": null,
   "id": "975280e0",
   "metadata": {},
   "outputs": [],
   "source": []
  },
  {
   "cell_type": "code",
   "execution_count": null,
   "id": "ed7c1c9a",
   "metadata": {},
   "outputs": [],
   "source": []
  },
  {
   "cell_type": "code",
   "execution_count": 62,
   "id": "ed6f999e",
   "metadata": {},
   "outputs": [
    {
     "name": "stdout",
     "output_type": "stream",
     "text": [
      "fav_lang:pythoncjavac++swiftcobal\n"
     ]
    }
   ],
   "source": [
    "print(\"fav_lang:pythoncjavac++swiftcobal\")"
   ]
  },
  {
   "cell_type": "code",
   "execution_count": 67,
   "id": "39bc5c5f",
   "metadata": {},
   "outputs": [
    {
     "name": "stdout",
     "output_type": "stream",
     "text": [
      "\n",
      "fav_lang:\n",
      "python\n",
      "c\n",
      "java\\c++\n",
      "swift\n",
      "coabl\n"
     ]
    }
   ],
   "source": [
    "print(\"\\nfav_lang:\\npython\\nc\\njava\\c++\\nswift\\ncoabl\")"
   ]
  },
  {
   "cell_type": "code",
   "execution_count": 65,
   "id": "2733d80e",
   "metadata": {},
   "outputs": [
    {
     "name": "stdout",
     "output_type": "stream",
     "text": [
      "\n",
      "\tfav_lang:\n",
      "\tpython\n",
      "\tc\n",
      "\tjava\n",
      "\tc++\n",
      "\tswift\n",
      "\tcobal\n"
     ]
    }
   ],
   "source": [
    "print(\"\\n\\tfav_lang:\\n\\tpython\\n\\tc\\n\\tjava\\n\\tc++\\n\\tswift\\n\\tcobal\")"
   ]
  },
  {
   "cell_type": "code",
   "execution_count": null,
   "id": "a3b1b0f8",
   "metadata": {},
   "outputs": [],
   "source": []
  },
  {
   "cell_type": "code",
   "execution_count": 68,
   "id": "230273ed",
   "metadata": {},
   "outputs": [],
   "source": [
    "lang='python'"
   ]
  },
  {
   "cell_type": "code",
   "execution_count": 69,
   "id": "e7fc4ec6",
   "metadata": {},
   "outputs": [
    {
     "name": "stdout",
     "output_type": "stream",
     "text": [
      "python\n"
     ]
    }
   ],
   "source": [
    "print(lang)"
   ]
  },
  {
   "cell_type": "code",
   "execution_count": 70,
   "id": "4c4d0eab",
   "metadata": {},
   "outputs": [],
   "source": [
    "lang2=' java'"
   ]
  },
  {
   "cell_type": "code",
   "execution_count": 71,
   "id": "01c90db3",
   "metadata": {},
   "outputs": [
    {
     "name": "stdout",
     "output_type": "stream",
     "text": [
      " java\n"
     ]
    }
   ],
   "source": [
    "print(lang2)"
   ]
  },
  {
   "cell_type": "code",
   "execution_count": 72,
   "id": "2f37f265",
   "metadata": {},
   "outputs": [
    {
     "data": {
      "text/plain": [
       "'java'"
      ]
     },
     "execution_count": 72,
     "metadata": {},
     "output_type": "execute_result"
    }
   ],
   "source": [
    "lang2.lstrip()"
   ]
  },
  {
   "cell_type": "code",
   "execution_count": 73,
   "id": "64832743",
   "metadata": {},
   "outputs": [],
   "source": [
    "lang3='cobal. '"
   ]
  },
  {
   "cell_type": "code",
   "execution_count": 74,
   "id": "e0768fef",
   "metadata": {},
   "outputs": [
    {
     "name": "stdout",
     "output_type": "stream",
     "text": [
      "cobal. \n"
     ]
    }
   ],
   "source": [
    "print(lang3)"
   ]
  },
  {
   "cell_type": "code",
   "execution_count": 75,
   "id": "447a782b",
   "metadata": {},
   "outputs": [
    {
     "data": {
      "text/plain": [
       "'cobal.'"
      ]
     },
     "execution_count": 75,
     "metadata": {},
     "output_type": "execute_result"
    }
   ],
   "source": [
    "lang3.rstrip()"
   ]
  },
  {
   "cell_type": "code",
   "execution_count": null,
   "id": "740e391a",
   "metadata": {},
   "outputs": [],
   "source": []
  },
  {
   "cell_type": "code",
   "execution_count": 77,
   "id": "d0fc7999",
   "metadata": {},
   "outputs": [],
   "source": [
    "fname='hari'"
   ]
  },
  {
   "cell_type": "code",
   "execution_count": 78,
   "id": "33fd4e18",
   "metadata": {},
   "outputs": [],
   "source": [
    "lname='kum'"
   ]
  },
  {
   "cell_type": "code",
   "execution_count": 82,
   "id": "17262fa1",
   "metadata": {},
   "outputs": [
    {
     "name": "stdout",
     "output_type": "stream",
     "text": [
      "hari kum\n"
     ]
    }
   ],
   "source": [
    "print(fname,lname)"
   ]
  },
  {
   "cell_type": "code",
   "execution_count": 85,
   "id": "5c1faf0a",
   "metadata": {},
   "outputs": [],
   "source": [
    "fulname=f\"{fname} {lname}\""
   ]
  },
  {
   "cell_type": "code",
   "execution_count": 98,
   "id": "c6f49f05",
   "metadata": {},
   "outputs": [
    {
     "name": "stdout",
     "output_type": "stream",
     "text": [
      "hari kum\n"
     ]
    }
   ],
   "source": [
    "print(fulname)"
   ]
  },
  {
   "cell_type": "code",
   "execution_count": 101,
   "id": "5b7e5212",
   "metadata": {},
   "outputs": [],
   "source": [
    "message=f\"keep up the good work, {fulname.title()}\""
   ]
  },
  {
   "cell_type": "code",
   "execution_count": 102,
   "id": "23ce2c12",
   "metadata": {},
   "outputs": [
    {
     "name": "stdout",
     "output_type": "stream",
     "text": [
      "keep up the good work, Hari Kum\n"
     ]
    }
   ],
   "source": [
    "print(message)"
   ]
  }
 ],
 "metadata": {
  "kernelspec": {
   "display_name": "Python 3",
   "language": "python",
   "name": "python3"
  },
  "language_info": {
   "codemirror_mode": {
    "name": "ipython",
    "version": 3
   },
   "file_extension": ".py",
   "mimetype": "text/x-python",
   "name": "python",
   "nbconvert_exporter": "python",
   "pygments_lexer": "ipython3",
   "version": "3.8.8"
  }
 },
 "nbformat": 4,
 "nbformat_minor": 5
}
