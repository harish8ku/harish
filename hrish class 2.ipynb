{
 "cells": [
  {
   "cell_type": "code",
   "execution_count": 2,
   "id": "1fef22ea",
   "metadata": {},
   "outputs": [
    {
     "name": "stdout",
     "output_type": "stream",
     "text": [
      "hello guys wellcom python world\n"
     ]
    }
   ],
   "source": [
    "print(\"hello guys wellcom python world\")"
   ]
  },
  {
   "cell_type": "code",
   "execution_count": 3,
   "id": "88e12f33",
   "metadata": {},
   "outputs": [],
   "source": [
    "x=3\n",
    "y=4"
   ]
  },
  {
   "cell_type": "code",
   "execution_count": 4,
   "id": "734f4843",
   "metadata": {},
   "outputs": [],
   "source": [
    "z=x+y"
   ]
  },
  {
   "cell_type": "code",
   "execution_count": 6,
   "id": "4dffaffd",
   "metadata": {},
   "outputs": [
    {
     "name": "stdout",
     "output_type": "stream",
     "text": [
      "7\n"
     ]
    }
   ],
   "source": [
    "print(z)"
   ]
  },
  {
   "cell_type": "code",
   "execution_count": null,
   "id": "dadf8838",
   "metadata": {},
   "outputs": [],
   "source": [
    "no spaces in variables"
   ]
  },
  {
   "cell_type": "code",
   "execution_count": 10,
   "id": "cab6dd32",
   "metadata": {},
   "outputs": [],
   "source": [
    "fristname='harish'"
   ]
  },
  {
   "cell_type": "code",
   "execution_count": 12,
   "id": "d8e09879",
   "metadata": {},
   "outputs": [
    {
     "name": "stdout",
     "output_type": "stream",
     "text": [
      "harish\n"
     ]
    }
   ],
   "source": [
    "print(fristname)"
   ]
  },
  {
   "cell_type": "code",
   "execution_count": null,
   "id": "2cb24976",
   "metadata": {},
   "outputs": [],
   "source": [
    "variable not start with number"
   ]
  },
  {
   "cell_type": "code",
   "execution_count": 15,
   "id": "54729cc3",
   "metadata": {},
   "outputs": [],
   "source": [
    "name1='kumar'"
   ]
  },
  {
   "cell_type": "code",
   "execution_count": 16,
   "id": "0252c438",
   "metadata": {},
   "outputs": [
    {
     "name": "stdout",
     "output_type": "stream",
     "text": [
      "kumar\n"
     ]
    }
   ],
   "source": [
    "print(name1)"
   ]
  },
  {
   "cell_type": "markdown",
   "id": "0552ae18",
   "metadata": {},
   "source": []
  },
  {
   "cell_type": "code",
   "execution_count": null,
   "id": "fe8c91cb",
   "metadata": {},
   "outputs": [],
   "source": [
    "variable not contain special characters"
   ]
  },
  {
   "cell_type": "code",
   "execution_count": null,
   "id": "0ce03ae4",
   "metadata": {},
   "outputs": [],
   "source": [
    "name@='navya'"
   ]
  },
  {
   "cell_type": "code",
   "execution_count": 21,
   "id": "56a9455c",
   "metadata": {},
   "outputs": [
    {
     "ename": "SyntaxError",
     "evalue": "invalid syntax (<ipython-input-21-d387795f980f>, line 1)",
     "output_type": "error",
     "traceback": [
      "\u001b[1;36m  File \u001b[1;32m\"<ipython-input-21-d387795f980f>\"\u001b[1;36m, line \u001b[1;32m1\u001b[0m\n\u001b[1;33m    print(name@)\u001b[0m\n\u001b[1;37m               ^\u001b[0m\n\u001b[1;31mSyntaxError\u001b[0m\u001b[1;31m:\u001b[0m invalid syntax\n"
     ]
    }
   ],
   "source": [
    "print(name@)"
   ]
  },
  {
   "cell_type": "code",
   "execution_count": null,
   "id": "88ca632e",
   "metadata": {},
   "outputs": [],
   "source": [
    "single quotes"
   ]
  },
  {
   "cell_type": "code",
   "execution_count": 22,
   "id": "9a8bf99a",
   "metadata": {},
   "outputs": [],
   "source": [
    "name='hari'"
   ]
  },
  {
   "cell_type": "code",
   "execution_count": 24,
   "id": "0175d653",
   "metadata": {},
   "outputs": [
    {
     "name": "stdout",
     "output_type": "stream",
     "text": [
      "hari\n"
     ]
    }
   ],
   "source": [
    "print(name)"
   ]
  },
  {
   "cell_type": "code",
   "execution_count": null,
   "id": "29053c9c",
   "metadata": {},
   "outputs": [],
   "source": [
    "double quotes"
   ]
  },
  {
   "cell_type": "code",
   "execution_count": 26,
   "id": "0f4484cc",
   "metadata": {},
   "outputs": [],
   "source": [
    "name2=\"mani\""
   ]
  },
  {
   "cell_type": "code",
   "execution_count": 27,
   "id": "df6a50a2",
   "metadata": {},
   "outputs": [
    {
     "name": "stdout",
     "output_type": "stream",
     "text": [
      "mani\n"
     ]
    }
   ],
   "source": [
    "print(name2)"
   ]
  },
  {
   "cell_type": "code",
   "execution_count": null,
   "id": "8e2fd570",
   "metadata": {},
   "outputs": [],
   "source": [
    "tripple quotes"
   ]
  },
  {
   "cell_type": "code",
   "execution_count": 30,
   "id": "6743e828",
   "metadata": {},
   "outputs": [],
   "source": [
    "name3 =\"\"\"thanu\"\"\""
   ]
  },
  {
   "cell_type": "code",
   "execution_count": 31,
   "id": "ba4c70ef",
   "metadata": {},
   "outputs": [
    {
     "name": "stdout",
     "output_type": "stream",
     "text": [
      "thanu\n"
     ]
    }
   ],
   "source": [
    "print(name3)"
   ]
  }
 ],
 "metadata": {
  "kernelspec": {
   "display_name": "Python 3",
   "language": "python",
   "name": "python3"
  },
  "language_info": {
   "codemirror_mode": {
    "name": "ipython",
    "version": 3
   },
   "file_extension": ".py",
   "mimetype": "text/x-python",
   "name": "python",
   "nbconvert_exporter": "python",
   "pygments_lexer": "ipython3",
   "version": "3.8.8"
  }
 },
 "nbformat": 4,
 "nbformat_minor": 5
}
